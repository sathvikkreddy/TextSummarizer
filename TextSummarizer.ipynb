{
 "cells": [
  {
   "cell_type": "code",
   "execution_count": 8,
   "id": "f625c57b",
   "metadata": {},
   "outputs": [],
   "source": [
    "#TextSummarizer"
   ]
  },
  {
   "cell_type": "code",
   "execution_count": 2,
   "id": "87555044",
   "metadata": {},
   "outputs": [],
   "source": [
    "#only for 1st time to install libraries\n",
    "#! pip3 install nltk"
   ]
  },
  {
   "cell_type": "code",
   "execution_count": 2,
   "id": "9f9a5b85",
   "metadata": {},
   "outputs": [],
   "source": [
    "\n",
    "# Importing the required Libraries\n",
    "import numpy as np\n",
    "import pandas as pd\n",
    "import matplotlib.pyplot as plt\n",
    "import nltk\n",
    "#nltk.download('punkt') # one time execution\n",
    "import re\n",
    "#nltk.download('stopwords') # one time execution\n",
    "import matplotlib.pyplot as plt\n",
    "\n",
    "from nltk.tokenize import sent_tokenize\n",
    "\n",
    "from nltk.corpus import stopwords\n",
    "\n",
    "from sklearn.metrics.pairwise import cosine_similarity\n",
    "\n",
    "import networkx as nx\n"
   ]
  },
  {
   "cell_type": "code",
   "execution_count": 3,
   "id": "6f22c625",
   "metadata": {},
   "outputs": [
    {
     "data": {
      "text/plain": [
       "400000"
      ]
     },
     "execution_count": 3,
     "metadata": {},
     "output_type": "execute_result"
    }
   ],
   "source": [
    "# Extract word vectors\n",
    "word_embeddings = {}\n",
    "file = open('glove.6B.100d.txt', encoding='utf-8')\n",
    "for line in file:\n",
    "    values = line.split()\n",
    "    word = values[0]\n",
    "    coefs = np.asarray(values[1:], dtype='float32')\n",
    "    word_embeddings[word] = coefs\n",
    "file.close()\n",
    "len(word_embeddings)"
   ]
  },
  {
   "cell_type": "code",
   "execution_count": 4,
   "id": "045d7f0e",
   "metadata": {},
   "outputs": [],
   "source": [
    "# reading the file\n",
    "df = pd.read_excel('test.xlsx')"
   ]
  },
  {
   "cell_type": "code",
   "execution_count": 5,
   "id": "c019545f",
   "metadata": {},
   "outputs": [
    {
     "data": {
      "text/html": [
       "<div>\n",
       "<style scoped>\n",
       "    .dataframe tbody tr th:only-of-type {\n",
       "        vertical-align: middle;\n",
       "    }\n",
       "\n",
       "    .dataframe tbody tr th {\n",
       "        vertical-align: top;\n",
       "    }\n",
       "\n",
       "    .dataframe thead th {\n",
       "        text-align: right;\n",
       "    }\n",
       "</style>\n",
       "<table border=\"1\" class=\"dataframe\">\n",
       "  <thead>\n",
       "    <tr style=\"text-align: right;\">\n",
       "      <th></th>\n",
       "      <th>TEST DATASET</th>\n",
       "      <th>Unnamed: 1</th>\n",
       "    </tr>\n",
       "  </thead>\n",
       "  <tbody>\n",
       "    <tr>\n",
       "      <th>0</th>\n",
       "      <td>NaN</td>\n",
       "      <td>Introduction</td>\n",
       "    </tr>\n",
       "    <tr>\n",
       "      <th>1</th>\n",
       "      <td>NaN</td>\n",
       "      <td>AirAsia Aviation Group—controlled by Malaysian...</td>\n",
       "    </tr>\n",
       "  </tbody>\n",
       "</table>\n",
       "</div>"
      ],
      "text/plain": [
       "   TEST DATASET                                         Unnamed: 1\n",
       "0           NaN                                       Introduction\n",
       "1           NaN  AirAsia Aviation Group—controlled by Malaysian..."
      ]
     },
     "execution_count": 5,
     "metadata": {},
     "output_type": "execute_result"
    }
   ],
   "source": [
    "df"
   ]
  },
  {
   "cell_type": "code",
   "execution_count": 6,
   "id": "bf677da9",
   "metadata": {},
   "outputs": [
    {
     "data": {
      "text/plain": [
       "Index(['TEST DATASET', 'Unnamed: 1'], dtype='object')"
      ]
     },
     "execution_count": 6,
     "metadata": {},
     "output_type": "execute_result"
    }
   ],
   "source": [
    "df.columns"
   ]
  },
  {
   "cell_type": "code",
   "execution_count": 7,
   "id": "ef97cc37",
   "metadata": {},
   "outputs": [
    {
     "data": {
      "text/html": [
       "<div>\n",
       "<style scoped>\n",
       "    .dataframe tbody tr th:only-of-type {\n",
       "        vertical-align: middle;\n",
       "    }\n",
       "\n",
       "    .dataframe tbody tr th {\n",
       "        vertical-align: top;\n",
       "    }\n",
       "\n",
       "    .dataframe thead th {\n",
       "        text-align: right;\n",
       "    }\n",
       "</style>\n",
       "<table border=\"1\" class=\"dataframe\">\n",
       "  <thead>\n",
       "    <tr style=\"text-align: right;\">\n",
       "      <th></th>\n",
       "      <th>TEST DATASET</th>\n",
       "      <th>Introduction</th>\n",
       "    </tr>\n",
       "  </thead>\n",
       "  <tbody>\n",
       "    <tr>\n",
       "      <th>1</th>\n",
       "      <td>NaN</td>\n",
       "      <td>AirAsia Aviation Group—controlled by Malaysian...</td>\n",
       "    </tr>\n",
       "  </tbody>\n",
       "</table>\n",
       "</div>"
      ],
      "text/plain": [
       "   TEST DATASET                                       Introduction\n",
       "1           NaN  AirAsia Aviation Group—controlled by Malaysian..."
      ]
     },
     "execution_count": 7,
     "metadata": {},
     "output_type": "execute_result"
    }
   ],
   "source": [
    "df.rename(columns = {'Unnamed: 1' : 'Introduction' }, inplace=True)\n",
    "# Deleting the first row\n",
    "df.drop(0)"
   ]
  },
  {
   "cell_type": "code",
   "execution_count": 8,
   "id": "96d09ef1",
   "metadata": {},
   "outputs": [],
   "source": [
    "\n",
    "# Converting the DataFrame into a dictionary\n",
    "text_dictionary = {}\n",
    "for i in range(1,len(df['TEST DATASET'])):\n",
    "    text_dictionary[i] = df['Introduction'][i]\n",
    "#print(df['Introduction'][1])"
   ]
  },
  {
   "cell_type": "code",
   "execution_count": 9,
   "id": "b8307842",
   "metadata": {},
   "outputs": [],
   "source": [
    "\n",
    "# function to remove stopwords\n",
    "def remove_stopwords(sen):\n",
    "    stop_words = stopwords.words('english')\n",
    "    \n",
    "    sen_new = \" \".join([i for i in sen if i not in stop_words])\n",
    "    return sen_new"
   ]
  },
  {
   "cell_type": "code",
   "execution_count": 10,
   "id": "a8b7c801",
   "metadata": {},
   "outputs": [],
   "source": [
    "# function to make vectors out of the sentences\n",
    "def sentence_vector_func (sentences_cleaned) : \n",
    "    sentence_vector = []\n",
    "    for i in sentences_cleaned:\n",
    "        if len(i) != 0:\n",
    "            v = sum([word_embeddings.get(w, np.zeros((100,))) for w in i.split()])/(len(i.split())+0.001)\n",
    "        else:\n",
    "            v = np.zeros((100,))\n",
    "        sentence_vector.append(v)\n",
    "    \n",
    "    return (sentence_vector)\n"
   ]
  },
  {
   "cell_type": "code",
   "execution_count": 11,
   "id": "d206b0b1",
   "metadata": {},
   "outputs": [],
   "source": [
    "# function to get the summary of the articles\n",
    "# NOTE - Remove '#' infront of print statement for displaying the contents at different stages of the text summarisation process\n",
    "def summary_text (test_text, n = 5):\n",
    "    sentences = []\n",
    "    \n",
    "    # tokenising the text \n",
    "    sentences.append(sent_tokenize(test_text))\n",
    "    # print(sentences)\n",
    "    sentences = [y for x in sentences for y in x] # flatten list\n",
    "    # print(sentences)\n",
    "    \n",
    "    # remove punctuations, numbers and special characters\n",
    "    clean_sentences = pd.Series(sentences).str.replace(\"[^a-z A-Z 0-9]\", \" \")\n",
    "\n",
    "    # make alphabets lowercase\n",
    "    clean_sentences = [s.lower() for s in clean_sentences]\n",
    "    #print(clean_sentences)\n",
    "\n",
    "    \n",
    "    # remove stopwords from the sentences\n",
    "    clean_sentences = [remove_stopwords(r.split()) for r in clean_sentences]\n",
    "    #print(clean_sentences)\n",
    "    \n",
    "    sentence_vectors = sentence_vector_func(clean_sentences)\n",
    "    \n",
    "    # similarity matrix\n",
    "    sim_mat = np.zeros([len(sentences), len(sentences)])\n",
    "    #print(sim_mat)\n",
    "    \n",
    "    # Finding the similarities between the sentences \n",
    "    for i in range(len(sentences)):\n",
    "        for j in range(len(sentences)):\n",
    "            if i != j:\n",
    "                sim_mat[i][j] = cosine_similarity(sentence_vectors[i].reshape(1,100), sentence_vectors[j].reshape(1,100))[0,0]\n",
    "    \n",
    "    \n",
    "    nx_graph = nx.from_numpy_array(sim_mat)\n",
    "    scores = nx.pagerank(nx_graph)\n",
    "    #print(scores)\n",
    "    \n",
    "    ranked_sentences = sorted(((scores[i],s) for i,s in enumerate(sentences)))\n",
    "    # Extract sentences as the summary\n",
    "    summarised_string = ''\n",
    "    for i in range(n):\n",
    "        \n",
    "        try:\n",
    "            summarised_string = summarised_string + str(ranked_sentences[i][1])            \n",
    "        except IndexError:\n",
    "            print (\"Summary Not Available\")\n",
    "    \n",
    "    return (summarised_string)\n"
   ]
  },
  {
   "cell_type": "code",
   "execution_count": 12,
   "id": "e2556e89",
   "metadata": {},
   "outputs": [
    {
     "name": "stdout",
     "output_type": "stream",
     "text": [
      "Kindly let me know in how many sentences you want the summary - \n",
      "5\n",
      "Summary of the article -  1\n",
      "“Cambodia is a hidden jewel,” he added.AirAsia Cambodia aims to transport inbound tourists from Southeast Asia, China, India and South Korea into the country, which is famous for the ancient Angkor Wat temple in Siem Reap.AirAsia Japan filed for bankruptcy in 2020, while the group divested its stake in an Indian joint venture to partner Tata Sons.The new airline will be led by Cambodian entrepreneur Vissoth Nam as CEO.Fernandes and Kamarudin started AirAsia 21 years ago, with two aircraft.\n",
      "========================================================================================================================\n",
      "**************************************** The process has been completed successfully ****************************************\n"
     ]
    },
    {
     "name": "stderr",
     "output_type": "stream",
     "text": [
      "<ipython-input-11-3dbf9a949e2a>:13: FutureWarning: The default value of regex will change from True to False in a future version.\n",
      "  clean_sentences = pd.Series(sentences).str.replace(\"[^a-z A-Z 0-9]\", \" \")\n"
     ]
    }
   ],
   "source": [
    "print(\"Kindly let me know in how many sentences you want the summary - \")\n",
    "x = int(input())\n",
    "\n",
    "summary_dictionary = {}\n",
    "\n",
    "for key in text_dictionary:\n",
    "    \n",
    "    para = text_dictionary[key]\n",
    "    print(\"Summary of the article - \",key)\n",
    "    summary = summary_text(para,x)\n",
    "    summary_dictionary[key] = summary\n",
    "    \n",
    "    print(summary)\n",
    "    print('='*120)    \n",
    "    \n",
    "print (\"*\"*40,\"The process has been completed successfully\",\"*\"*40)"
   ]
  },
  {
   "cell_type": "code",
   "execution_count": 20,
   "id": "ebe9c817",
   "metadata": {},
   "outputs": [],
   "source": [
    "\n",
    "\n",
    "summary_table = pd.DataFrame(list(summary_dictionary.items()),columns = ['TEST DATASET','Summary'])"
   ]
  },
  {
   "cell_type": "code",
   "execution_count": 21,
   "id": "3be1f93b",
   "metadata": {},
   "outputs": [],
   "source": [
    "\n",
    "data_table = pd.DataFrame(list(text_dictionary.items()),columns = ['TEST DATASET','Introduction'])"
   ]
  },
  {
   "cell_type": "code",
   "execution_count": 22,
   "id": "b364034b",
   "metadata": {},
   "outputs": [
    {
     "data": {
      "text/html": [
       "<div>\n",
       "<style scoped>\n",
       "    .dataframe tbody tr th:only-of-type {\n",
       "        vertical-align: middle;\n",
       "    }\n",
       "\n",
       "    .dataframe tbody tr th {\n",
       "        vertical-align: top;\n",
       "    }\n",
       "\n",
       "    .dataframe thead th {\n",
       "        text-align: right;\n",
       "    }\n",
       "</style>\n",
       "<table border=\"1\" class=\"dataframe\">\n",
       "  <thead>\n",
       "    <tr style=\"text-align: right;\">\n",
       "      <th></th>\n",
       "      <th>TEST DATASET</th>\n",
       "      <th>Introduction</th>\n",
       "      <th>Summary</th>\n",
       "    </tr>\n",
       "  </thead>\n",
       "  <tbody>\n",
       "    <tr>\n",
       "      <th>0</th>\n",
       "      <td>1</td>\n",
       "      <td>AirAsia Aviation Group—controlled by Malaysian...</td>\n",
       "      <td>“Cambodia is a hidden jewel,” he added.AirAsia...</td>\n",
       "    </tr>\n",
       "  </tbody>\n",
       "</table>\n",
       "</div>"
      ],
      "text/plain": [
       "   TEST DATASET                                       Introduction  \\\n",
       "0             1  AirAsia Aviation Group—controlled by Malaysian...   \n",
       "\n",
       "                                             Summary  \n",
       "0  “Cambodia is a hidden jewel,” he added.AirAsia...  "
      ]
     },
     "execution_count": 22,
     "metadata": {},
     "output_type": "execute_result"
    }
   ],
   "source": [
    "\n",
    "# Combining the findings into the table\n",
    "result  = pd.concat([data_table , summary_table['Summary']], axis = 1 , sort = False)\n",
    "result\n"
   ]
  },
  {
   "cell_type": "code",
   "execution_count": 23,
   "id": "86e6f5ed",
   "metadata": {},
   "outputs": [],
   "source": [
    "\n",
    "# Saving it to a file (remove the '#' to save)\n",
    "result.to_csv(\"testoutput.csv\")"
   ]
  },
  {
   "cell_type": "code",
   "execution_count": null,
   "id": "9b3f93a8",
   "metadata": {},
   "outputs": [],
   "source": []
  }
 ],
 "metadata": {
  "kernelspec": {
   "display_name": "Python 3",
   "language": "python",
   "name": "python3"
  },
  "language_info": {
   "codemirror_mode": {
    "name": "ipython",
    "version": 3
   },
   "file_extension": ".py",
   "mimetype": "text/x-python",
   "name": "python",
   "nbconvert_exporter": "python",
   "pygments_lexer": "ipython3",
   "version": "3.8.8"
  }
 },
 "nbformat": 4,
 "nbformat_minor": 5
}
